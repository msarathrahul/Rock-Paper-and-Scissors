{
 "cells": [
  {
   "cell_type": "code",
   "execution_count": 103,
   "id": "e36e1ce4",
   "metadata": {},
   "outputs": [],
   "source": [
    "def scs(player_choice,computer_choice):\n",
    "    if player_choice == computer_choice:\n",
    "        print('Draw!!')\n",
    "    elif player_choice == \"Stone\":\n",
    "        if computer_choice == \"Paper\":\n",
    "            print('Computer Win\\nPlayer lose')\n",
    "        elif computer_choice == \"Scissors\":\n",
    "            print('Player Win\\nComputer lose')\n",
    "    elif player_choice == \"Paper\":\n",
    "        if computer_choice == \"Stone\":\n",
    "            print('Player Win\\nComputer lose')\n",
    "        elif computer_choice == \"Scissors\":\n",
    "            print('Computer Win\\nPlayer lose')\n",
    "    elif player_choice == \"Scissors\":\n",
    "        if computer_choice == \"Paper\":\n",
    "            print('Player Win\\nComputer lose')\n",
    "        elif computer_choice == \"Stone\":\n",
    "            print('Computer Win\\nPlayer lose')"
   ]
  },
  {
   "cell_type": "code",
   "execution_count": 104,
   "id": "4a4a61d9",
   "metadata": {},
   "outputs": [
    {
     "name": "stdout",
     "output_type": "stream",
     "text": [
      "Enter your choice: \n",
      "1:Stone\n",
      "2:Paper\n",
      "3:Scissors\n",
      "\n",
      "1\n",
      "Player_choice = Stone\n",
      "Computer_choice = Paper\n",
      "_______________\n",
      "Player Win\n",
      "Computer lose\n",
      "Wanna play again:\n",
      "1:Yes\n",
      "2:No\n",
      "2\n",
      "Thanks for playing\n"
     ]
    }
   ],
   "source": [
    "rematch = 1\n",
    "while rematch == 1:\n",
    "    options = ['Stone','Paper','Scissors']\n",
    "    player_choice_input = int(input(\"Enter your choice: \\n1:Stone\\n2:Paper\\n3:Scissors\\n\\n\"))\n",
    "    player_choice = options[player_choice_input-1]\n",
    "    #print('Player_choice = {}'.format(player_choice))\n",
    "    import random\n",
    "    computer_choice = random.choice(options)\n",
    "    #print('Computer_choice = {}'.format(computer_choice))\n",
    "    print('Player_choice = {}'.format(player_choice))\n",
    "    print('Computer_choice = {}'.format(computer_choice))\n",
    "    print(\"_______________\")\n",
    "    scs(player_choice,computer_choice)\n",
    "    rematch = int(input('Wanna play again:\\n1:Yes\\n2:No\\n'))\n",
    "    if rematch == 2:\n",
    "        print('Thanks for playing')"
   ]
  }
 ],
 "metadata": {
  "kernelspec": {
   "display_name": "Python 3 (ipykernel)",
   "language": "python",
   "name": "python3"
  },
  "language_info": {
   "codemirror_mode": {
    "name": "ipython",
    "version": 3
   },
   "file_extension": ".py",
   "mimetype": "text/x-python",
   "name": "python",
   "nbconvert_exporter": "python",
   "pygments_lexer": "ipython3",
   "version": "3.9.7"
  }
 },
 "nbformat": 4,
 "nbformat_minor": 5
}
